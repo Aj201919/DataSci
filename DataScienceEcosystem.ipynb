{
 "cells": [
  {
   "cell_type": "markdown",
   "id": "e4f3eecb-a038-4257-9196-fc69fe3ee3eb",
   "metadata": {},
   "source": [
    "# :Data Science Tools and Ecosystem"
   ]
  },
  {
   "cell_type": "markdown",
   "id": "575ee25e-1a3a-434c-a5f9-32e7a3653174",
   "metadata": {},
   "source": [
    "In this notebook, Data Science Tools and Ecosystem are summarized."
   ]
  },
  {
   "cell_type": "markdown",
   "id": "326e1696-2b5c-4f13-813b-948441ffa276",
   "metadata": {},
   "source": [
    "Some of the popular languages that Data Scientists use are:\n",
    "1. Python:\n",
    "2. R:\n",
    "3. SQL:\n",
    "4. Julia:"
   ]
  },
  {
   "cell_type": "markdown",
   "id": "23efd844-1f28-4a5f-bcd1-60a5b6c9732f",
   "metadata": {},
   "source": [
    "# Objectives:\n",
    "1. Data Manipulation:\n",
    "2. Data Analysis:\n",
    "3. Machine Learning and Modeling:\n",
    "4. Visualization and Communication:\n",
    "5. Scalability and Performance: "
   ]
  },
  {
   "cell_type": "markdown",
   "id": "117df5f3-6ae1-481f-90f9-e34c82f0ef50",
   "metadata": {},
   "source": [
    "Some of the commonly used libraries used by Data Scientists include:\n",
    "1. NumPy:\n",
    "2. pandas:\n",
    "3. Matplotlib:\n",
    "4. Seaborn:\n",
    "5. scikit-learn:"
   ]
  },
  {
   "cell_type": "markdown",
   "id": "7b5849d6-bb74-455f-a359-e9cca2f352aa",
   "metadata": {},
   "source": [
    "| Data Science Tools | \n",
    "| -------------------|\n",
    "|Jupyter Notebook / JupyterLab:|\n",
    "|RStudio:|\n",
    "|Visual Studio Code (VS Code|"
   ]
  },
  {
   "cell_type": "markdown",
   "id": "bfcf6623-0a7c-4b6b-ba88-4d42e8138088",
   "metadata": {},
   "source": [
    "### :Below are a few examples of evaluating arithmetic expressions in Python"
   ]
  },
  {
   "cell_type": "markdown",
   "id": "705eadf1-3408-45a9-8482-59fe01f3601e",
   "metadata": {},
   "source": [
    "This a simple arithmetic expression to mutiply then add integers"
   ]
  },
  {
   "cell_type": "code",
   "execution_count": 2,
   "id": "d778c214-4354-441b-a3f8-f44bb7cd52eb",
   "metadata": {},
   "outputs": [
    {
     "data": {
      "text/plain": [
       "17"
      ]
     },
     "execution_count": 2,
     "metadata": {},
     "output_type": "execute_result"
    }
   ],
   "source": [
    "(3*4)+5"
   ]
  },
  {
   "cell_type": "markdown",
   "id": "80956107-20e3-498d-af96-f52cfd19a0b8",
   "metadata": {},
   "source": [
    "This will convert 200 minutes to hours by diving by 60"
   ]
  },
  {
   "cell_type": "code",
   "execution_count": 3,
   "id": "132f4d95-feee-4e07-ad3e-2e2e08a43725",
   "metadata": {},
   "outputs": [
    {
     "data": {
      "text/plain": [
       "3.3333333333333335"
      ]
     },
     "execution_count": 3,
     "metadata": {},
     "output_type": "execute_result"
    }
   ],
   "source": [
    "200/60"
   ]
  },
  {
   "cell_type": "markdown",
   "id": "c5a226a8-b41d-44db-8351-c28836b36479",
   "metadata": {},
   "source": [
    "# Author"
   ]
  },
  {
   "cell_type": "markdown",
   "id": "1fac676f-3c43-40a0-86e6-35643fc18e68",
   "metadata": {},
   "source": [
    "#### Ajay Jadhav"
   ]
  },
  {
   "cell_type": "code",
   "execution_count": null,
   "id": "d1e98b97-39bf-4020-99ff-ac664eb71ec6",
   "metadata": {},
   "outputs": [],
   "source": []
  }
 ],
 "metadata": {
  "kernelspec": {
   "display_name": "Python 3 (ipykernel)",
   "language": "python",
   "name": "python3"
  },
  "language_info": {
   "codemirror_mode": {
    "name": "ipython",
    "version": 3
   },
   "file_extension": ".py",
   "mimetype": "text/x-python",
   "name": "python",
   "nbconvert_exporter": "python",
   "pygments_lexer": "ipython3",
   "version": "3.11.7"
  }
 },
 "nbformat": 4,
 "nbformat_minor": 5
}
